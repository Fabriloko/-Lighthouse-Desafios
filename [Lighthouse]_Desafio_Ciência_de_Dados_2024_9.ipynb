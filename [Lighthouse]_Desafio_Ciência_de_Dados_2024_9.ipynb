{
  "nbformat": 4,
  "nbformat_minor": 0,
  "metadata": {
    "colab": {
      "provenance": [],
      "authorship_tag": "ABX9TyOukFuw09ny77oToVc6rOEF",
      "include_colab_link": true
    },
    "kernelspec": {
      "name": "python3",
      "display_name": "Python 3"
    },
    "language_info": {
      "name": "python"
    }
  },
  "cells": [
    {
      "cell_type": "markdown",
      "metadata": {
        "id": "view-in-github",
        "colab_type": "text"
      },
      "source": [
        "<a href=\"https://colab.research.google.com/github/Fabriloko/-Lighthouse-Desafios/blob/Ci%C3%AAncia-de-Dados/%5BLighthouse%5D_Desafio_Ci%C3%AAncia_de_Dados_2024_9.ipynb\" target=\"_parent\"><img src=\"https://colab.research.google.com/assets/colab-badge.svg\" alt=\"Open In Colab\"/></a>"
      ]
    },
    {
      "cell_type": "code",
      "execution_count": null,
      "metadata": {
        "id": "Z386cXc6F0ok"
      },
      "outputs": [],
      "source": []
    }
  ]
}